{
  "cells": [
    {
      "cell_type": "markdown",
      "metadata": {
        "id": "Y76zACVFELOJ"
      },
      "source": [
        "I am going to use is Kaggle introduction to NLP dataset. I am going to build classifer to predict which tweets are about real disasters and which ones are not.\n",
        "\n",
        "\n"
      ]
    },
    {
      "cell_type": "markdown",
      "metadata": {
        "id": "vnx-LEsQK-0N"
      },
      "source": [
        "I'll start with a baseline model and move on from there\n",
        "\n",
        "\n",
        "*   Model 0: Naive bayes(baseline)\n",
        "*   Model 1: Feed_forward neural network (dense model)\n",
        "*   Model 2: LSTM model (RNN)\n",
        "*   Model 3: GRU model (RNN)\n",
        "*   Model 4: Bidirectional-LSTM model(RNN)\n",
        "*   Model 5: 1D Convolutional Neural Network (CNN)\n",
        "*   Model 6: Tensorflow Hub Pretrained Feature Extractor (Using Transfer learning for NLP)\n",
        "\n"
      ]
    },
    {
      "cell_type": "code",
      "execution_count": 1,
      "metadata": {
        "colab": {
          "base_uri": "https://localhost:8080/"
        },
        "id": "Rv0wY38N4ZKz",
        "outputId": "1184a780-38dc-4298-b152-88d6dd3ed119"
      },
      "outputs": [
        {
          "output_type": "stream",
          "name": "stdout",
          "text": [
            "NVIDIA-SMI has failed because it couldn't communicate with the NVIDIA driver. Make sure that the latest NVIDIA driver is installed and running.\n",
            "\n"
          ]
        }
      ],
      "source": [
        "## check GPU\n",
        "!nvidia-smi"
      ]
    },
    {
      "cell_type": "code",
      "execution_count": 2,
      "metadata": {
        "colab": {
          "base_uri": "https://localhost:8080/"
        },
        "id": "ygMGsBLx58ci",
        "outputId": "0e2b6a38-a8d1-4b45-aece-13aa594dbb18"
      },
      "outputs": [
        {
          "output_type": "stream",
          "name": "stdout",
          "text": [
            "--2022-03-16 10:08:57--  https://storage.googleapis.com/ztm_tf_course/nlp_getting_started.zip\n",
            "Resolving storage.googleapis.com (storage.googleapis.com)... 142.250.141.128, 2607:f8b0:4023:c0b::80\n",
            "Connecting to storage.googleapis.com (storage.googleapis.com)|142.250.141.128|:443... connected.\n",
            "HTTP request sent, awaiting response... 200 OK\n",
            "Length: 607343 (593K) [application/zip]\n",
            "Saving to: ‘nlp_getting_started.zip’\n",
            "\n",
            "\rnlp_getting_started   0%[                    ]       0  --.-KB/s               \rnlp_getting_started 100%[===================>] 593.11K  --.-KB/s    in 0.005s  \n",
            "\n",
            "2022-03-16 10:08:58 (122 MB/s) - ‘nlp_getting_started.zip’ saved [607343/607343]\n",
            "\n"
          ]
        }
      ],
      "source": [
        "!wget https://storage.googleapis.com/ztm_tf_course/nlp_getting_started.zip"
      ]
    },
    {
      "cell_type": "code",
      "execution_count": 3,
      "metadata": {
        "colab": {
          "base_uri": "https://localhost:8080/"
        },
        "id": "cIZmN_gNGQ3n",
        "outputId": "e76960f5-d006-41c4-9738-25e8637c4658"
      },
      "outputs": [
        {
          "output_type": "stream",
          "name": "stdout",
          "text": [
            "Archive:  nlp_getting_started.zip\n",
            "  inflating: nlpdataset/sample_submission.csv  \n",
            "  inflating: nlpdataset/test.csv     \n",
            "  inflating: nlpdataset/train.csv    \n"
          ]
        }
      ],
      "source": [
        "!unzip nlp_getting_started.zip -d nlpdataset"
      ]
    },
    {
      "cell_type": "code",
      "execution_count": 4,
      "metadata": {
        "id": "MLi0Nm0OHMCB",
        "colab": {
          "base_uri": "https://localhost:8080/",
          "height": 206
        },
        "outputId": "cfaf2b30-30fe-4b06-a622-0dc54e5c75ce"
      },
      "outputs": [
        {
          "output_type": "execute_result",
          "data": {
            "text/plain": [
              "   id keyword location                                               text  \\\n",
              "0   1     NaN      NaN  Our Deeds are the Reason of this #earthquake M...   \n",
              "1   4     NaN      NaN             Forest fire near La Ronge Sask. Canada   \n",
              "2   5     NaN      NaN  All residents asked to 'shelter in place' are ...   \n",
              "3   6     NaN      NaN  13,000 people receive #wildfires evacuation or...   \n",
              "4   7     NaN      NaN  Just got sent this photo from Ruby #Alaska as ...   \n",
              "\n",
              "   target  \n",
              "0       1  \n",
              "1       1  \n",
              "2       1  \n",
              "3       1  \n",
              "4       1  "
            ],
            "text/html": [
              "\n",
              "  <div id=\"df-2e17fefe-2eb3-4ccb-8c81-4721f4ad45ee\">\n",
              "    <div class=\"colab-df-container\">\n",
              "      <div>\n",
              "<style scoped>\n",
              "    .dataframe tbody tr th:only-of-type {\n",
              "        vertical-align: middle;\n",
              "    }\n",
              "\n",
              "    .dataframe tbody tr th {\n",
              "        vertical-align: top;\n",
              "    }\n",
              "\n",
              "    .dataframe thead th {\n",
              "        text-align: right;\n",
              "    }\n",
              "</style>\n",
              "<table border=\"1\" class=\"dataframe\">\n",
              "  <thead>\n",
              "    <tr style=\"text-align: right;\">\n",
              "      <th></th>\n",
              "      <th>id</th>\n",
              "      <th>keyword</th>\n",
              "      <th>location</th>\n",
              "      <th>text</th>\n",
              "      <th>target</th>\n",
              "    </tr>\n",
              "  </thead>\n",
              "  <tbody>\n",
              "    <tr>\n",
              "      <th>0</th>\n",
              "      <td>1</td>\n",
              "      <td>NaN</td>\n",
              "      <td>NaN</td>\n",
              "      <td>Our Deeds are the Reason of this #earthquake M...</td>\n",
              "      <td>1</td>\n",
              "    </tr>\n",
              "    <tr>\n",
              "      <th>1</th>\n",
              "      <td>4</td>\n",
              "      <td>NaN</td>\n",
              "      <td>NaN</td>\n",
              "      <td>Forest fire near La Ronge Sask. Canada</td>\n",
              "      <td>1</td>\n",
              "    </tr>\n",
              "    <tr>\n",
              "      <th>2</th>\n",
              "      <td>5</td>\n",
              "      <td>NaN</td>\n",
              "      <td>NaN</td>\n",
              "      <td>All residents asked to 'shelter in place' are ...</td>\n",
              "      <td>1</td>\n",
              "    </tr>\n",
              "    <tr>\n",
              "      <th>3</th>\n",
              "      <td>6</td>\n",
              "      <td>NaN</td>\n",
              "      <td>NaN</td>\n",
              "      <td>13,000 people receive #wildfires evacuation or...</td>\n",
              "      <td>1</td>\n",
              "    </tr>\n",
              "    <tr>\n",
              "      <th>4</th>\n",
              "      <td>7</td>\n",
              "      <td>NaN</td>\n",
              "      <td>NaN</td>\n",
              "      <td>Just got sent this photo from Ruby #Alaska as ...</td>\n",
              "      <td>1</td>\n",
              "    </tr>\n",
              "  </tbody>\n",
              "</table>\n",
              "</div>\n",
              "      <button class=\"colab-df-convert\" onclick=\"convertToInteractive('df-2e17fefe-2eb3-4ccb-8c81-4721f4ad45ee')\"\n",
              "              title=\"Convert this dataframe to an interactive table.\"\n",
              "              style=\"display:none;\">\n",
              "        \n",
              "  <svg xmlns=\"http://www.w3.org/2000/svg\" height=\"24px\"viewBox=\"0 0 24 24\"\n",
              "       width=\"24px\">\n",
              "    <path d=\"M0 0h24v24H0V0z\" fill=\"none\"/>\n",
              "    <path d=\"M18.56 5.44l.94 2.06.94-2.06 2.06-.94-2.06-.94-.94-2.06-.94 2.06-2.06.94zm-11 1L8.5 8.5l.94-2.06 2.06-.94-2.06-.94L8.5 2.5l-.94 2.06-2.06.94zm10 10l.94 2.06.94-2.06 2.06-.94-2.06-.94-.94-2.06-.94 2.06-2.06.94z\"/><path d=\"M17.41 7.96l-1.37-1.37c-.4-.4-.92-.59-1.43-.59-.52 0-1.04.2-1.43.59L10.3 9.45l-7.72 7.72c-.78.78-.78 2.05 0 2.83L4 21.41c.39.39.9.59 1.41.59.51 0 1.02-.2 1.41-.59l7.78-7.78 2.81-2.81c.8-.78.8-2.07 0-2.86zM5.41 20L4 18.59l7.72-7.72 1.47 1.35L5.41 20z\"/>\n",
              "  </svg>\n",
              "      </button>\n",
              "      \n",
              "  <style>\n",
              "    .colab-df-container {\n",
              "      display:flex;\n",
              "      flex-wrap:wrap;\n",
              "      gap: 12px;\n",
              "    }\n",
              "\n",
              "    .colab-df-convert {\n",
              "      background-color: #E8F0FE;\n",
              "      border: none;\n",
              "      border-radius: 50%;\n",
              "      cursor: pointer;\n",
              "      display: none;\n",
              "      fill: #1967D2;\n",
              "      height: 32px;\n",
              "      padding: 0 0 0 0;\n",
              "      width: 32px;\n",
              "    }\n",
              "\n",
              "    .colab-df-convert:hover {\n",
              "      background-color: #E2EBFA;\n",
              "      box-shadow: 0px 1px 2px rgba(60, 64, 67, 0.3), 0px 1px 3px 1px rgba(60, 64, 67, 0.15);\n",
              "      fill: #174EA6;\n",
              "    }\n",
              "\n",
              "    [theme=dark] .colab-df-convert {\n",
              "      background-color: #3B4455;\n",
              "      fill: #D2E3FC;\n",
              "    }\n",
              "\n",
              "    [theme=dark] .colab-df-convert:hover {\n",
              "      background-color: #434B5C;\n",
              "      box-shadow: 0px 1px 3px 1px rgba(0, 0, 0, 0.15);\n",
              "      filter: drop-shadow(0px 1px 2px rgba(0, 0, 0, 0.3));\n",
              "      fill: #FFFFFF;\n",
              "    }\n",
              "  </style>\n",
              "\n",
              "      <script>\n",
              "        const buttonEl =\n",
              "          document.querySelector('#df-2e17fefe-2eb3-4ccb-8c81-4721f4ad45ee button.colab-df-convert');\n",
              "        buttonEl.style.display =\n",
              "          google.colab.kernel.accessAllowed ? 'block' : 'none';\n",
              "\n",
              "        async function convertToInteractive(key) {\n",
              "          const element = document.querySelector('#df-2e17fefe-2eb3-4ccb-8c81-4721f4ad45ee');\n",
              "          const dataTable =\n",
              "            await google.colab.kernel.invokeFunction('convertToInteractive',\n",
              "                                                     [key], {});\n",
              "          if (!dataTable) return;\n",
              "\n",
              "          const docLinkHtml = 'Like what you see? Visit the ' +\n",
              "            '<a target=\"_blank\" href=https://colab.research.google.com/notebooks/data_table.ipynb>data table notebook</a>'\n",
              "            + ' to learn more about interactive tables.';\n",
              "          element.innerHTML = '';\n",
              "          dataTable['output_type'] = 'display_data';\n",
              "          await google.colab.output.renderOutput(dataTable, element);\n",
              "          const docLink = document.createElement('div');\n",
              "          docLink.innerHTML = docLinkHtml;\n",
              "          element.appendChild(docLink);\n",
              "        }\n",
              "      </script>\n",
              "    </div>\n",
              "  </div>\n",
              "  "
            ]
          },
          "metadata": {},
          "execution_count": 4
        }
      ],
      "source": [
        "import pandas as pd\n",
        "import numpy as np\n",
        "import tensorflow as tf\n",
        "train = pd.read_csv('/content/nlpdataset/train.csv')\n",
        "#test = pd.read_csv('/content/nlpdataset/test.csv')\n",
        "train.head()\n",
        "\n"
      ]
    },
    {
      "cell_type": "code",
      "execution_count": 5,
      "metadata": {
        "id": "Zvir-hvufP1p",
        "colab": {
          "base_uri": "https://localhost:8080/"
        },
        "outputId": "6907aadd-dbdb-423a-9353-169f80526082"
      },
      "outputs": [
        {
          "output_type": "execute_result",
          "data": {
            "text/plain": [
              "(7613, 5)"
            ]
          },
          "metadata": {},
          "execution_count": 5
        }
      ],
      "source": [
        "train.shape"
      ]
    },
    {
      "cell_type": "code",
      "execution_count": 6,
      "metadata": {
        "id": "ehFup0ZUgPKD",
        "colab": {
          "base_uri": "https://localhost:8080/"
        },
        "outputId": "29339e94-6243-4ee2-be3b-c47cc440ffbe"
      },
      "outputs": [
        {
          "output_type": "execute_result",
          "data": {
            "text/plain": [
              "157"
            ]
          },
          "metadata": {},
          "execution_count": 6
        }
      ],
      "source": [
        "max([len(x) for x in train['text']])"
      ]
    },
    {
      "cell_type": "code",
      "execution_count": 7,
      "metadata": {
        "id": "6h1cTdl6gRdb",
        "colab": {
          "base_uri": "https://localhost:8080/",
          "height": 35
        },
        "outputId": "62b3d576-bc80-45f5-8234-2eecb5d936a5"
      },
      "outputs": [
        {
          "output_type": "execute_result",
          "data": {
            "text/plain": [
              "'Our Deeds are the Reason of this #earthquake May ALLAH Forgive us all'"
            ],
            "application/vnd.google.colaboratory.intrinsic+json": {
              "type": "string"
            }
          },
          "metadata": {},
          "execution_count": 7
        }
      ],
      "source": [
        "train['text'][0]"
      ]
    },
    {
      "cell_type": "code",
      "execution_count": 7,
      "metadata": {
        "id": "EsD0vvqMC6NR"
      },
      "outputs": [],
      "source": [
        ""
      ]
    },
    {
      "cell_type": "code",
      "execution_count": 8,
      "metadata": {
        "id": "GwDjVZGyE3e7"
      },
      "outputs": [],
      "source": [
        "# Shuffle the training data \n",
        "train_df_shuffled = train.sample(frac=1, random_state=42)"
      ]
    },
    {
      "cell_type": "code",
      "execution_count": 9,
      "metadata": {
        "id": "V0cpm5OHI_tz",
        "colab": {
          "base_uri": "https://localhost:8080/",
          "height": 206
        },
        "outputId": "c74aaecf-98fd-4475-e084-79f1a38c3274"
      },
      "outputs": [
        {
          "output_type": "execute_result",
          "data": {
            "text/plain": [
              "        id      keyword               location  \\\n",
              "2644  3796  destruction                    NaN   \n",
              "2227  3185       deluge                    NaN   \n",
              "5448  7769       police                     UK   \n",
              "132    191   aftershock                    NaN   \n",
              "6845  9810       trauma  Montgomery County, MD   \n",
              "\n",
              "                                                   text  target  \n",
              "2644  So you have a new weapon that can cause un-ima...       1  \n",
              "2227  The f$&amp;@ing things I do for #GISHWHES Just...       0  \n",
              "5448  DT @georgegalloway: RT @Galloway4Mayor: ÛÏThe...       1  \n",
              "132   Aftershock back to school kick off was great. ...       0  \n",
              "6845  in response to trauma Children of Addicts deve...       0  "
            ],
            "text/html": [
              "\n",
              "  <div id=\"df-72b9fb9b-44a4-42f4-947b-c3bb8f0d7072\">\n",
              "    <div class=\"colab-df-container\">\n",
              "      <div>\n",
              "<style scoped>\n",
              "    .dataframe tbody tr th:only-of-type {\n",
              "        vertical-align: middle;\n",
              "    }\n",
              "\n",
              "    .dataframe tbody tr th {\n",
              "        vertical-align: top;\n",
              "    }\n",
              "\n",
              "    .dataframe thead th {\n",
              "        text-align: right;\n",
              "    }\n",
              "</style>\n",
              "<table border=\"1\" class=\"dataframe\">\n",
              "  <thead>\n",
              "    <tr style=\"text-align: right;\">\n",
              "      <th></th>\n",
              "      <th>id</th>\n",
              "      <th>keyword</th>\n",
              "      <th>location</th>\n",
              "      <th>text</th>\n",
              "      <th>target</th>\n",
              "    </tr>\n",
              "  </thead>\n",
              "  <tbody>\n",
              "    <tr>\n",
              "      <th>2644</th>\n",
              "      <td>3796</td>\n",
              "      <td>destruction</td>\n",
              "      <td>NaN</td>\n",
              "      <td>So you have a new weapon that can cause un-ima...</td>\n",
              "      <td>1</td>\n",
              "    </tr>\n",
              "    <tr>\n",
              "      <th>2227</th>\n",
              "      <td>3185</td>\n",
              "      <td>deluge</td>\n",
              "      <td>NaN</td>\n",
              "      <td>The f$&amp;amp;@ing things I do for #GISHWHES Just...</td>\n",
              "      <td>0</td>\n",
              "    </tr>\n",
              "    <tr>\n",
              "      <th>5448</th>\n",
              "      <td>7769</td>\n",
              "      <td>police</td>\n",
              "      <td>UK</td>\n",
              "      <td>DT @georgegalloway: RT @Galloway4Mayor: ÛÏThe...</td>\n",
              "      <td>1</td>\n",
              "    </tr>\n",
              "    <tr>\n",
              "      <th>132</th>\n",
              "      <td>191</td>\n",
              "      <td>aftershock</td>\n",
              "      <td>NaN</td>\n",
              "      <td>Aftershock back to school kick off was great. ...</td>\n",
              "      <td>0</td>\n",
              "    </tr>\n",
              "    <tr>\n",
              "      <th>6845</th>\n",
              "      <td>9810</td>\n",
              "      <td>trauma</td>\n",
              "      <td>Montgomery County, MD</td>\n",
              "      <td>in response to trauma Children of Addicts deve...</td>\n",
              "      <td>0</td>\n",
              "    </tr>\n",
              "  </tbody>\n",
              "</table>\n",
              "</div>\n",
              "      <button class=\"colab-df-convert\" onclick=\"convertToInteractive('df-72b9fb9b-44a4-42f4-947b-c3bb8f0d7072')\"\n",
              "              title=\"Convert this dataframe to an interactive table.\"\n",
              "              style=\"display:none;\">\n",
              "        \n",
              "  <svg xmlns=\"http://www.w3.org/2000/svg\" height=\"24px\"viewBox=\"0 0 24 24\"\n",
              "       width=\"24px\">\n",
              "    <path d=\"M0 0h24v24H0V0z\" fill=\"none\"/>\n",
              "    <path d=\"M18.56 5.44l.94 2.06.94-2.06 2.06-.94-2.06-.94-.94-2.06-.94 2.06-2.06.94zm-11 1L8.5 8.5l.94-2.06 2.06-.94-2.06-.94L8.5 2.5l-.94 2.06-2.06.94zm10 10l.94 2.06.94-2.06 2.06-.94-2.06-.94-.94-2.06-.94 2.06-2.06.94z\"/><path d=\"M17.41 7.96l-1.37-1.37c-.4-.4-.92-.59-1.43-.59-.52 0-1.04.2-1.43.59L10.3 9.45l-7.72 7.72c-.78.78-.78 2.05 0 2.83L4 21.41c.39.39.9.59 1.41.59.51 0 1.02-.2 1.41-.59l7.78-7.78 2.81-2.81c.8-.78.8-2.07 0-2.86zM5.41 20L4 18.59l7.72-7.72 1.47 1.35L5.41 20z\"/>\n",
              "  </svg>\n",
              "      </button>\n",
              "      \n",
              "  <style>\n",
              "    .colab-df-container {\n",
              "      display:flex;\n",
              "      flex-wrap:wrap;\n",
              "      gap: 12px;\n",
              "    }\n",
              "\n",
              "    .colab-df-convert {\n",
              "      background-color: #E8F0FE;\n",
              "      border: none;\n",
              "      border-radius: 50%;\n",
              "      cursor: pointer;\n",
              "      display: none;\n",
              "      fill: #1967D2;\n",
              "      height: 32px;\n",
              "      padding: 0 0 0 0;\n",
              "      width: 32px;\n",
              "    }\n",
              "\n",
              "    .colab-df-convert:hover {\n",
              "      background-color: #E2EBFA;\n",
              "      box-shadow: 0px 1px 2px rgba(60, 64, 67, 0.3), 0px 1px 3px 1px rgba(60, 64, 67, 0.15);\n",
              "      fill: #174EA6;\n",
              "    }\n",
              "\n",
              "    [theme=dark] .colab-df-convert {\n",
              "      background-color: #3B4455;\n",
              "      fill: #D2E3FC;\n",
              "    }\n",
              "\n",
              "    [theme=dark] .colab-df-convert:hover {\n",
              "      background-color: #434B5C;\n",
              "      box-shadow: 0px 1px 3px 1px rgba(0, 0, 0, 0.15);\n",
              "      filter: drop-shadow(0px 1px 2px rgba(0, 0, 0, 0.3));\n",
              "      fill: #FFFFFF;\n",
              "    }\n",
              "  </style>\n",
              "\n",
              "      <script>\n",
              "        const buttonEl =\n",
              "          document.querySelector('#df-72b9fb9b-44a4-42f4-947b-c3bb8f0d7072 button.colab-df-convert');\n",
              "        buttonEl.style.display =\n",
              "          google.colab.kernel.accessAllowed ? 'block' : 'none';\n",
              "\n",
              "        async function convertToInteractive(key) {\n",
              "          const element = document.querySelector('#df-72b9fb9b-44a4-42f4-947b-c3bb8f0d7072');\n",
              "          const dataTable =\n",
              "            await google.colab.kernel.invokeFunction('convertToInteractive',\n",
              "                                                     [key], {});\n",
              "          if (!dataTable) return;\n",
              "\n",
              "          const docLinkHtml = 'Like what you see? Visit the ' +\n",
              "            '<a target=\"_blank\" href=https://colab.research.google.com/notebooks/data_table.ipynb>data table notebook</a>'\n",
              "            + ' to learn more about interactive tables.';\n",
              "          element.innerHTML = '';\n",
              "          dataTable['output_type'] = 'display_data';\n",
              "          await google.colab.output.renderOutput(dataTable, element);\n",
              "          const docLink = document.createElement('div');\n",
              "          docLink.innerHTML = docLinkHtml;\n",
              "          element.appendChild(docLink);\n",
              "        }\n",
              "      </script>\n",
              "    </div>\n",
              "  </div>\n",
              "  "
            ]
          },
          "metadata": {},
          "execution_count": 9
        }
      ],
      "source": [
        "train_df_shuffled.head()"
      ]
    },
    {
      "cell_type": "code",
      "execution_count": 10,
      "metadata": {
        "id": "_OUYvY6AJBst",
        "colab": {
          "base_uri": "https://localhost:8080/"
        },
        "outputId": "0f7acde2-0ffa-477f-f0fd-f3bca8ccb80f"
      },
      "outputs": [
        {
          "output_type": "execute_result",
          "data": {
            "text/plain": [
              "0    4342\n",
              "1    3271\n",
              "Name: target, dtype: int64"
            ]
          },
          "metadata": {},
          "execution_count": 10
        }
      ],
      "source": [
        "train_df_shuffled.target.value_counts()"
      ]
    },
    {
      "cell_type": "code",
      "execution_count": 11,
      "metadata": {
        "id": "1G3zcOXPQ8EX",
        "colab": {
          "base_uri": "https://localhost:8080/"
        },
        "outputId": "0718d74f-1bcd-4d11-8f2a-c24cb2be7fb0"
      },
      "outputs": [
        {
          "output_type": "execute_result",
          "data": {
            "text/plain": [
              "7613"
            ]
          },
          "metadata": {},
          "execution_count": 11
        }
      ],
      "source": [
        "# how many sample\n",
        "len(train_df_shuffled)"
      ]
    },
    {
      "cell_type": "code",
      "execution_count": 12,
      "metadata": {
        "id": "M6r-6gMJRuMT"
      },
      "outputs": [],
      "source": [
        "# Let us split the data\n",
        "\n",
        "from sklearn.model_selection import train_test_split\n",
        "X = train_df_shuffled['text']\n",
        "y = train_df_shuffled['target']\n",
        "\n",
        "X_train,X_test, y_train,  y_test =    train_test_split(X, y, train_size=.8, random_state = 42)    \n",
        "\n",
        "X_train = X_train.values\n",
        "X_test = X_test.values"
      ]
    },
    {
      "cell_type": "code",
      "execution_count": 13,
      "metadata": {
        "id": "6xX9Z66tDjZ7",
        "colab": {
          "base_uri": "https://localhost:8080/"
        },
        "outputId": "beb1f160-6911-492d-c470-93b43f20b4bd"
      },
      "outputs": [
        {
          "output_type": "execute_result",
          "data": {
            "text/plain": [
              "((6090,), (1523,))"
            ]
          },
          "metadata": {},
          "execution_count": 13
        }
      ],
      "source": [
        "X_train.shape, X_test.shape"
      ]
    },
    {
      "cell_type": "markdown",
      "metadata": {
        "id": "5dFuasyBH91_"
      },
      "source": [
        "**Evaluation Metrics:**\n",
        "\n",
        "We are going to use the following evaluations metrics to measure the performance of the models:\n",
        "\n",
        "\n",
        "*   Accuracy\n",
        "\n",
        "*   F1 Score\n",
        "\n",
        "*   Recall\n",
        "*   Precision\n",
        "\n",
        "\n",
        "\n",
        "\n",
        "\n"
      ]
    },
    {
      "cell_type": "code",
      "execution_count": 14,
      "metadata": {
        "id": "_RSc_xPbIdfd"
      },
      "outputs": [],
      "source": [
        "from sklearn.metrics import accuracy_score, precision_recall_fscore_support\n",
        "\n",
        "def calculate_results(y_true, y_pred):\n",
        "\n",
        "  model_accuracy = accuracy_score(y_true, y_pred) * 100\n",
        "  model_precision, model_recall, model_f1, _ = precision_recall_fscore_support(y_true, y_pred, average = 'weighted')\n",
        "  model_results = {'accuracy':model_accuracy,\n",
        "                   'precision': model_precision,\n",
        "                   'recall': model_recall,\n",
        "                   'F1': model_f1\n",
        "                   }\n",
        "  return model_results"
      ]
    },
    {
      "cell_type": "code",
      "execution_count": 15,
      "metadata": {
        "id": "Erg24RQtTIEm"
      },
      "outputs": [],
      "source": [
        "from sklearn.naive_bayes import MultinomialNB\n",
        "from sklearn.pipeline import Pipeline\n",
        "from sklearn.feature_extraction.text import TfidfVectorizer\n",
        "from sklearn.metrics import accuracy_score"
      ]
    },
    {
      "cell_type": "code",
      "execution_count": 16,
      "metadata": {
        "id": "2Gb6rVmr-oBE"
      },
      "outputs": [],
      "source": [
        "model_0 = Pipeline([\n",
        "                    \n",
        "                    ('tfyidf', TfidfVectorizer()),\n",
        "                    ('MNB', MultinomialNB())\n",
        "])"
      ]
    },
    {
      "cell_type": "code",
      "execution_count": 17,
      "metadata": {
        "id": "o7HvMHq-_Ryy",
        "colab": {
          "base_uri": "https://localhost:8080/"
        },
        "outputId": "92a8d255-a363-46ef-a7f7-f28cff384a61"
      },
      "outputs": [
        {
          "output_type": "execute_result",
          "data": {
            "text/plain": [
              "Pipeline(steps=[('tfyidf', TfidfVectorizer()), ('MNB', MultinomialNB())])"
            ]
          },
          "metadata": {},
          "execution_count": 17
        }
      ],
      "source": [
        "model_0.fit(X_train, y_train)"
      ]
    },
    {
      "cell_type": "code",
      "execution_count": 18,
      "metadata": {
        "id": "NNNMBQbLBWPG"
      },
      "outputs": [],
      "source": [
        "pred_0 = model_0.predict(X_test)"
      ]
    },
    {
      "cell_type": "code",
      "execution_count": 19,
      "metadata": {
        "id": "vHrD405jBbvF",
        "colab": {
          "base_uri": "https://localhost:8080/"
        },
        "outputId": "da17690b-3d6e-4271-c06f-9d1011dcec34"
      },
      "outputs": [
        {
          "output_type": "execute_result",
          "data": {
            "text/plain": [
              "{'F1': 0.8061459908247106,\n",
              " 'accuracy': 79.9080761654629,\n",
              " 'precision': 0.8394056761682985,\n",
              " 'recall': 0.799080761654629}"
            ]
          },
          "metadata": {},
          "execution_count": 19
        }
      ],
      "source": [
        "mode1_0_results = calculate_results(pred_0, y_test)\n",
        "mode1_0_results"
      ]
    },
    {
      "cell_type": "markdown",
      "metadata": {
        "id": "KTt_fWOWQycu"
      },
      "source": [
        "**Data Preprocessing**\n",
        "\n"
      ]
    },
    {
      "cell_type": "markdown",
      "metadata": {
        "id": "s9iTtc5KQ4px"
      },
      "source": [
        "Create token victorizer to convert the input text into numbers"
      ]
    },
    {
      "cell_type": "code",
      "execution_count": 20,
      "metadata": {
        "id": "besslgYdQ442"
      },
      "outputs": [],
      "source": [
        "from tensorflow.keras.layers import TextVectorization\n",
        "\n",
        "max_vocab = 10000 # max number of words to have \n",
        "embedding_dim = 128\n",
        "max_seq_length = 15 # how many words the model will see for each tweet\n",
        "\n",
        "text_victorizer = TextVectorization(\n",
        "\n",
        "                  max_tokens=max_vocab,\n",
        "                  output_mode=\"int\",\n",
        "                  output_sequence_length=max_seq_length)\n",
        "text_victorizer.adapt(X_train)"
      ]
    },
    {
      "cell_type": "code",
      "execution_count": 20,
      "metadata": {
        "id": "x5bQwbm6Qvc_"
      },
      "outputs": [],
      "source": [
        ""
      ]
    },
    {
      "cell_type": "code",
      "execution_count": 20,
      "metadata": {
        "id": "SUYVb2rlCchF"
      },
      "outputs": [],
      "source": [
        ""
      ]
    },
    {
      "cell_type": "markdown",
      "metadata": {
        "id": "o1ctEu1jJ0yr"
      },
      "source": [
        "**Model 1: Simple Dense Model:**"
      ]
    },
    {
      "cell_type": "code",
      "execution_count": 21,
      "metadata": {
        "id": "pZHdOM_LJ5-7"
      },
      "outputs": [],
      "source": [
        "# Create a tensorboard callback\n",
        "\n",
        "\n",
        "SAVE_DIR = 'model_logs'"
      ]
    },
    {
      "cell_type": "code",
      "execution_count": 22,
      "metadata": {
        "id": "Ib0NQTiZKW1L"
      },
      "outputs": [],
      "source": [
        "# Build model with the functional API\n",
        "from tensorflow.keras import layers\n",
        "\n",
        "inputs = tf.keras.Input(shape=(1,), dtype=tf.string, name='text')\n",
        "X = text_victorizer(inputs)\n",
        "X = layers.Embedding(max_vocab, embedding_dim)(X)\n",
        "X = layers.GlobalAveragePooling1D() (X)\n",
        "outputs = layers.Dense(1, activation='sigmoid')(X)\n",
        "model_1 = tf.keras.Model(inputs, outputs , name= 'model_1_dense')\n"
      ]
    },
    {
      "cell_type": "code",
      "execution_count": 23,
      "metadata": {
        "id": "NzA8NFwvWqkS",
        "colab": {
          "base_uri": "https://localhost:8080/"
        },
        "outputId": "01ee3910-f3fc-49ed-b89b-de5538d7b925"
      },
      "outputs": [
        {
          "output_type": "stream",
          "name": "stdout",
          "text": [
            "Model: \"model_1_dense\"\n",
            "_________________________________________________________________\n",
            " Layer (type)                Output Shape              Param #   \n",
            "=================================================================\n",
            " text (InputLayer)           [(None, 1)]               0         \n",
            "                                                                 \n",
            " text_vectorization (TextVec  (None, 15)               0         \n",
            " torization)                                                     \n",
            "                                                                 \n",
            " embedding (Embedding)       (None, 15, 128)           1280000   \n",
            "                                                                 \n",
            " global_average_pooling1d (G  (None, 128)              0         \n",
            " lobalAveragePooling1D)                                          \n",
            "                                                                 \n",
            " dense (Dense)               (None, 1)                 129       \n",
            "                                                                 \n",
            "=================================================================\n",
            "Total params: 1,280,129\n",
            "Trainable params: 1,280,129\n",
            "Non-trainable params: 0\n",
            "_________________________________________________________________\n"
          ]
        }
      ],
      "source": [
        "model_1.compile(loss=\"binary_crossentropy\",\n",
        "                optimizer = tf.keras.optimizers.Adam(),\n",
        "                metrics = ['accuracy']\n",
        "                )\n",
        "model_1.summary()"
      ]
    },
    {
      "cell_type": "code",
      "execution_count": 23,
      "metadata": {
        "id": "YL5zU8a_XW42"
      },
      "outputs": [],
      "source": [
        ""
      ]
    },
    {
      "cell_type": "code",
      "execution_count": 24,
      "metadata": {
        "id": "AncIDFXxXfca",
        "colab": {
          "base_uri": "https://localhost:8080/",
          "height": 533
        },
        "outputId": "3ec9cf18-8449-482f-ef60-be46aa4e024d"
      },
      "outputs": [
        {
          "output_type": "execute_result",
          "data": {
            "text/plain": [
              "<IPython.core.display.Image object>"
            ],
            "image/png": "[encoded data removed]"
          },
          "metadata": {},
          "execution_count": 24
        }
      ],
      "source": [
        "tf.keras.utils.plot_model(model_1, show_shapes=True)"
      ]
    },
    {
      "cell_type": "code",
      "execution_count": 25,
      "metadata": {
        "id": "vp6_HoX_Xz2y",
        "colab": {
          "base_uri": "https://localhost:8080/"
        },
        "outputId": "cad2fca1-2ffe-4c7d-c81f-0d1a0efd3fd6"
      },
      "outputs": [
        {
          "output_type": "stream",
          "name": "stdout",
          "text": [
            "Epoch 1/5\n",
            "191/191 [==============================] - 3s 13ms/step - loss: 0.6192 - accuracy: 0.6880 - val_loss: 0.5474 - val_accuracy: 0.7518\n",
            "Epoch 2/5\n",
            "191/191 [==============================] - 2s 12ms/step - loss: 0.4536 - accuracy: 0.8120 - val_loss: 0.4762 - val_accuracy: 0.7820\n",
            "Epoch 3/5\n",
            "191/191 [==============================] - 3s 15ms/step - loss: 0.3530 - accuracy: 0.8576 - val_loss: 0.4640 - val_accuracy: 0.7892\n",
            "Epoch 4/5\n",
            "191/191 [==============================] - 4s 22ms/step - loss: 0.2861 - accuracy: 0.8883 - val_loss: 0.4634 - val_accuracy: 0.7905\n",
            "Epoch 5/5\n",
            "191/191 [==============================] - 4s 21ms/step - loss: 0.2371 - accuracy: 0.9146 - val_loss: 0.4770 - val_accuracy: 0.7925\n"
          ]
        }
      ],
      "source": [
        "# fit the model\n",
        "\n",
        "model_1_hsitory = model_1.fit(x = X_train, \n",
        "                              y = y_train,\n",
        "                              epochs = 5,\n",
        "                              validation_data = (X_test, y_test),\n",
        "                              callbacks = [tf.keras.callbacks.TensorBoard(log_dir=SAVE_DIR)]\n",
        "                              )"
      ]
    },
    {
      "cell_type": "code",
      "execution_count": 26,
      "metadata": {
        "id": "Q1G8bvfEegQb",
        "colab": {
          "base_uri": "https://localhost:8080/"
        },
        "outputId": "5389cf1a-9b3d-481e-eabb-5e3ecee3a9fe"
      },
      "outputs": [
        {
          "output_type": "stream",
          "name": "stdout",
          "text": [
            "48/48 [==============================] - 0s 3ms/step - loss: 0.4770 - accuracy: 0.7925\n"
          ]
        },
        {
          "output_type": "execute_result",
          "data": {
            "text/plain": [
              "[0.4770023226737976, 0.7925148010253906]"
            ]
          },
          "metadata": {},
          "execution_count": 26
        }
      ],
      "source": [
        "model_1.evaluate(X_test, y_test)"
      ]
    },
    {
      "cell_type": "code",
      "execution_count": 27,
      "metadata": {
        "id": "Y9XUmCWUkd5z",
        "colab": {
          "base_uri": "https://localhost:8080/"
        },
        "outputId": "7e989b6c-10db-4d3c-877e-e676c7ac046b"
      },
      "outputs": [
        {
          "output_type": "execute_result",
          "data": {
            "text/plain": [
              "array(['DFR EP016 Monthly Meltdown - On Dnbheaven 2015.08.06 http://t.co/EjKRf8N8A8 #Drum and Bass #heavy #nasty http://t.co/SPHWE6wFI5',\n",
              "       'FedEx no longer to transport bioterror germs in wake of anthrax lab mishaps http://t.co/qZQc8WWwcN via @usatoday',\n",
              "       'Gunmen kill four in El Salvador bus attack: Suspected Salvadoran gang members killed four people and wounded s... http://t.co/CNtwB6ScZj'],\n",
              "      dtype=object)"
            ]
          },
          "metadata": {},
          "execution_count": 27
        }
      ],
      "source": [
        "X_test[0:3]"
      ]
    },
    {
      "cell_type": "code",
      "execution_count": 28,
      "metadata": {
        "id": "-R2Apc8PgWs4",
        "colab": {
          "base_uri": "https://localhost:8080/"
        },
        "outputId": "623ba238-6840-4d10-a2e6-bcb5a7c7ef63"
      },
      "outputs": [
        {
          "output_type": "execute_result",
          "data": {
            "text/plain": [
              "array([[0.33840436],\n",
              "       [0.870498  ],\n",
              "       [0.99649405]], dtype=float32)"
            ]
          },
          "metadata": {},
          "execution_count": 28
        }
      ],
      "source": [
        "model_1.predict(X_test[0:3])"
      ]
    },
    {
      "cell_type": "code",
      "execution_count": 29,
      "metadata": {
        "id": "sLn_e1LCkMID",
        "colab": {
          "base_uri": "https://localhost:8080/"
        },
        "outputId": "b0b63cab-008e-448b-bb1e-9536d25bc41b"
      },
      "outputs": [
        {
          "output_type": "execute_result",
          "data": {
            "text/plain": [
              "{'F1': 0.7961901598045722,\n",
              " 'accuracy': 79.25147734734077,\n",
              " 'precision': 0.8103404008646431,\n",
              " 'recall': 0.7925147734734077}"
            ]
          },
          "metadata": {},
          "execution_count": 29
        }
      ],
      "source": [
        "#Convert probabilities into label either 0 or 1\n",
        "model_1_pred = model_1.predict(X_test)\n",
        "model_1_pred = np.squeeze(np.round(model_1_pred))\n",
        "\n",
        "#Evaluate Model 1 :\n",
        "mode1_1_results = calculate_results(model_1_pred, y_test)\n",
        "mode1_1_results"
      ]
    },
    {
      "cell_type": "code",
      "execution_count": 29,
      "metadata": {
        "id": "noOUaX3Rs76Q"
      },
      "outputs": [],
      "source": [
        ""
      ]
    },
    {
      "cell_type": "code",
      "execution_count": 30,
      "metadata": {
        "id": "NJA5ZipHthhd",
        "colab": {
          "base_uri": "https://localhost:8080/"
        },
        "outputId": "f9a9ce9c-9bd4-42cf-fc8a-236faced8cee"
      },
      "outputs": [
        {
          "output_type": "execute_result",
          "data": {
            "text/plain": [
              "{'F1': 0.8061459908247106,\n",
              " 'accuracy': 79.9080761654629,\n",
              " 'precision': 0.8394056761682985,\n",
              " 'recall': 0.799080761654629}"
            ]
          },
          "metadata": {},
          "execution_count": 30
        }
      ],
      "source": [
        "mode1_0_results"
      ]
    },
    {
      "cell_type": "code",
      "execution_count": 31,
      "metadata": {
        "id": "eIZT7rdytqVT",
        "colab": {
          "base_uri": "https://localhost:8080/"
        },
        "outputId": "081b8957-6977-4eb5-9368-e838f73a1d56"
      },
      "outputs": [
        {
          "output_type": "execute_result",
          "data": {
            "text/plain": [
              "(10000, ['', '[UNK]', 'the', 'a', 'in', 'to', 'of', 'and', 'i', 'is'])"
            ]
          },
          "metadata": {},
          "execution_count": 31
        }
      ],
      "source": [
        "word_in_vocab = text_victorizer.get_vocabulary()\n",
        "len(word_in_vocab), word_in_vocab[:10]"
      ]
    },
    {
      "cell_type": "code",
      "execution_count": 32,
      "metadata": {
        "id": "GvMgm7n9vHio"
      },
      "outputs": [],
      "source": [
        "# get the weights matrix of embedding layer\n",
        "#emed_weights = model_1.get_layer('embedding_6').get_weights()[0]\n",
        "#emed_weights.shape"
      ]
    },
    {
      "cell_type": "code",
      "execution_count": 32,
      "metadata": {
        "id": "323eSawXxd8R"
      },
      "outputs": [],
      "source": [
        ""
      ]
    },
    {
      "cell_type": "markdown",
      "metadata": {
        "id": "V0CnlXIJ7xxJ"
      },
      "source": [
        "**Model 2: LSTM:**\n",
        "\n",
        "\n",
        "LSTM = Long short term memory\n",
        "\n",
        "our stucutre of an RMM will be:\n",
        "\n",
        "Input (text) -> Toknize -> Embedding -> Layers(RNNs/Dense) -> output\n"
      ]
    },
    {
      "cell_type": "markdown",
      "metadata": {
        "id": "77dhWICHX8HR"
      },
      "source": [
        ""
      ]
    },
    {
      "cell_type": "code",
      "execution_count": 33,
      "metadata": {
        "id": "v158XY75yWtQ"
      },
      "outputs": [],
      "source": [
        "# Create LSTM model\n",
        "\n",
        "\n",
        "inputs = tf.keras.Input(shape=(1,), dtype=tf.string, name='text')\n",
        "X = text_victorizer(inputs)\n",
        "X = layers.Embedding(max_vocab, embedding_dim)(X)\n",
        "#X = layers.GlobalAveragePooling1D() (X)\n",
        "X = layers.LSTM(64, activation = 'tanh',  return_sequences=True)(X)\n",
        "X = layers.LSTM(64, activation = 'tanh')(X)\n",
        "\n",
        "outputs = layers.Dense(1, activation='sigmoid')(X)\n",
        "model_2 = tf.keras.Model(inputs, outputs , name= 'model_2_LSTM')"
      ]
    },
    {
      "cell_type": "code",
      "execution_count": 34,
      "metadata": {
        "id": "h67CXrwl8zWg",
        "colab": {
          "base_uri": "https://localhost:8080/"
        },
        "outputId": "d667c35e-bd2e-4dc5-c813-93265e044fbb"
      },
      "outputs": [
        {
          "output_type": "stream",
          "name": "stdout",
          "text": [
            "Model: \"model_2_LSTM\"\n",
            "_________________________________________________________________\n",
            " Layer (type)                Output Shape              Param #   \n",
            "=================================================================\n",
            " text (InputLayer)           [(None, 1)]               0         \n",
            "                                                                 \n",
            " text_vectorization (TextVec  (None, 15)               0         \n",
            " torization)                                                     \n",
            "                                                                 \n",
            " embedding_1 (Embedding)     (None, 15, 128)           1280000   \n",
            "                                                                 \n",
            " lstm (LSTM)                 (None, 15, 64)            49408     \n",
            "                                                                 \n",
            " lstm_1 (LSTM)               (None, 64)                33024     \n",
            "                                                                 \n",
            " dense_1 (Dense)             (None, 1)                 65        \n",
            "                                                                 \n",
            "=================================================================\n",
            "Total params: 1,362,497\n",
            "Trainable params: 1,362,497\n",
            "Non-trainable params: 0\n",
            "_________________________________________________________________\n"
          ]
        }
      ],
      "source": [
        "model_2.compile(loss=\"binary_crossentropy\",\n",
        "                optimizer = tf.keras.optimizers.Adam(),\n",
        "                metrics = ['accuracy']\n",
        "                )\n",
        "model_2.summary()"
      ]
    },
    {
      "cell_type": "code",
      "execution_count": 35,
      "metadata": {
        "id": "itV0GhCi86BY",
        "colab": {
          "base_uri": "https://localhost:8080/"
        },
        "outputId": "6d4bb930-f155-4136-bcce-03614ed0b9a0"
      },
      "outputs": [
        {
          "output_type": "stream",
          "name": "stdout",
          "text": [
            "Epoch 1/5\n",
            "191/191 [==============================] - 19s 52ms/step - loss: 0.5121 - accuracy: 0.7494 - val_loss: 0.4686 - val_accuracy: 0.7919\n",
            "Epoch 2/5\n",
            "191/191 [==============================] - 9s 46ms/step - loss: 0.3087 - accuracy: 0.8747 - val_loss: 0.5330 - val_accuracy: 0.7899\n",
            "Epoch 3/5\n",
            "191/191 [==============================] - 8s 41ms/step - loss: 0.2053 - accuracy: 0.9253 - val_loss: 0.5422 - val_accuracy: 0.7800\n",
            "Epoch 4/5\n",
            "191/191 [==============================] - 7s 36ms/step - loss: 0.1545 - accuracy: 0.9476 - val_loss: 0.6729 - val_accuracy: 0.7702\n",
            "Epoch 5/5\n",
            "191/191 [==============================] - 6s 31ms/step - loss: 0.1050 - accuracy: 0.9621 - val_loss: 0.8809 - val_accuracy: 0.7630\n"
          ]
        }
      ],
      "source": [
        "# fit the model\n",
        "\n",
        "model_2_hsitory = model_2.fit(x = X_train, \n",
        "                              y = y_train,\n",
        "                              epochs = 5,\n",
        "                              validation_data = (X_test, y_test),\n",
        "                              callbacks = [tf.keras.callbacks.TensorBoard(log_dir=SAVE_DIR)]\n",
        "                              )"
      ]
    },
    {
      "cell_type": "code",
      "execution_count": 36,
      "metadata": {
        "id": "P9RiOjEw9pPr",
        "colab": {
          "base_uri": "https://localhost:8080/"
        },
        "outputId": "83f834c2-1034-4465-8552-04ce754c13fe"
      },
      "outputs": [
        {
          "output_type": "execute_result",
          "data": {
            "text/plain": [
              "{'F1': 0.7635877699150548,\n",
              " 'accuracy': 76.2967826657912,\n",
              " 'precision': 0.7646890656428618,\n",
              " 'recall': 0.762967826657912}"
            ]
          },
          "metadata": {},
          "execution_count": 36
        }
      ],
      "source": [
        "#Convert probabilities into label either 0 or 1\n",
        "model_2_pred = model_2.predict(X_test)\n",
        "model_2_pred = np.squeeze(np.round(model_2_pred))\n",
        "\n",
        "#Evaluate Model 2 :\n",
        "mode1_2_results = calculate_results(model_2_pred, y_test)\n",
        "mode1_2_results"
      ]
    },
    {
      "cell_type": "code",
      "execution_count": 36,
      "metadata": {
        "id": "F79AbbTR-xjV"
      },
      "outputs": [],
      "source": [
        ""
      ]
    },
    {
      "cell_type": "markdown",
      "metadata": {
        "id": "68K5rGmPX8-X"
      },
      "source": [
        "**Model 3: GRU:**\n",
        "\n",
        "\n",
        "GRU = Gated Recurrent Network\n",
        "\n",
        "our stucutre of an RNN will be:\n",
        "\n",
        "Input (text) -> Tokenize -> Embedding -> Layers(RNNs/Dense) -> output\n"
      ]
    },
    {
      "cell_type": "code",
      "execution_count": 37,
      "metadata": {
        "id": "kzeqDL5OYEDk"
      },
      "outputs": [],
      "source": [
        "# Create LSTM model\n",
        "\n",
        "\n",
        "inputs = tf.keras.Input(shape=(1,), dtype=tf.string, name='text')\n",
        "X = text_victorizer(inputs)\n",
        "X = layers.Embedding(max_vocab, embedding_dim)(X)\n",
        "\n",
        "X = layers.GRU(64, activation = 'tanh',  return_sequences=True)(X)\n",
        "X = layers.GRU(64, activation = 'tanh')(X)\n",
        "\n",
        "outputs = layers.Dense(1, activation='sigmoid')(X)\n",
        "model_3 = tf.keras.Model(inputs, outputs , name= 'model_2_GRU')"
      ]
    },
    {
      "cell_type": "code",
      "execution_count": 38,
      "metadata": {
        "id": "7YBBLZQ6YQP4",
        "colab": {
          "base_uri": "https://localhost:8080/"
        },
        "outputId": "d7862743-a19e-4d16-dd6f-dd794a51ba44"
      },
      "outputs": [
        {
          "output_type": "stream",
          "name": "stdout",
          "text": [
            "Model: \"model_2_GRU\"\n",
            "_________________________________________________________________\n",
            " Layer (type)                Output Shape              Param #   \n",
            "=================================================================\n",
            " text (InputLayer)           [(None, 1)]               0         \n",
            "                                                                 \n",
            " text_vectorization (TextVec  (None, 15)               0         \n",
            " torization)                                                     \n",
            "                                                                 \n",
            " embedding_2 (Embedding)     (None, 15, 128)           1280000   \n",
            "                                                                 \n",
            " gru (GRU)                   (None, 15, 64)            37248     \n",
            "                                                                 \n",
            " gru_1 (GRU)                 (None, 64)                24960     \n",
            "                                                                 \n",
            " dense_2 (Dense)             (None, 1)                 65        \n",
            "                                                                 \n",
            "=================================================================\n",
            "Total params: 1,342,273\n",
            "Trainable params: 1,342,273\n",
            "Non-trainable params: 0\n",
            "_________________________________________________________________\n"
          ]
        }
      ],
      "source": [
        "model_3.compile(loss=\"binary_crossentropy\",\n",
        "                optimizer = tf.keras.optimizers.Adam(),\n",
        "                metrics = ['accuracy']\n",
        "                )\n",
        "model_3.summary()"
      ]
    },
    {
      "cell_type": "code",
      "execution_count": 39,
      "metadata": {
        "id": "3Ch-zjO4YSwl",
        "colab": {
          "base_uri": "https://localhost:8080/"
        },
        "outputId": "63831449-1ba9-4f67-e3b4-55d8e1ddd32b"
      },
      "outputs": [
        {
          "output_type": "stream",
          "name": "stdout",
          "text": [
            "Epoch 1/5\n",
            "191/191 [==============================] - 23s 78ms/step - loss: 0.5253 - accuracy: 0.7333 - val_loss: 0.4658 - val_accuracy: 0.7892\n",
            "Epoch 2/5\n",
            "191/191 [==============================] - 10s 53ms/step - loss: 0.3118 - accuracy: 0.8731 - val_loss: 0.4827 - val_accuracy: 0.7853\n",
            "Epoch 3/5\n",
            "191/191 [==============================] - 10s 53ms/step - loss: 0.2150 - accuracy: 0.9204 - val_loss: 0.5922 - val_accuracy: 0.7899\n",
            "Epoch 4/5\n",
            "191/191 [==============================] - 9s 47ms/step - loss: 0.1474 - accuracy: 0.9514 - val_loss: 0.6241 - val_accuracy: 0.7722\n",
            "Epoch 5/5\n",
            "191/191 [==============================] - 10s 51ms/step - loss: 0.1171 - accuracy: 0.9616 - val_loss: 0.6061 - val_accuracy: 0.7741\n"
          ]
        }
      ],
      "source": [
        "# fit the model\n",
        "\n",
        "model_3_hsitory = model_3.fit(x = X_train, \n",
        "                              y = y_train,\n",
        "                              epochs = 5,\n",
        "                              validation_data = (X_test, y_test),\n",
        "                              callbacks = [tf.keras.callbacks.TensorBoard(log_dir=SAVE_DIR)]\n",
        "                              )"
      ]
    },
    {
      "cell_type": "code",
      "execution_count": 40,
      "metadata": {
        "id": "gZenkD89YYOW",
        "colab": {
          "base_uri": "https://localhost:8080/"
        },
        "outputId": "73d597b7-89bc-4e18-e214-dcc083ead183"
      },
      "outputs": [
        {
          "output_type": "execute_result",
          "data": {
            "text/plain": [
              "{'F1': 0.7746961810069968,\n",
              " 'accuracy': 77.41300065659883,\n",
              " 'precision': 0.7757156276353151,\n",
              " 'recall': 0.7741300065659882}"
            ]
          },
          "metadata": {},
          "execution_count": 40
        }
      ],
      "source": [
        "#Convert probabilities into label either 0 or 1\n",
        "model_3_pred = model_3.predict(X_test)\n",
        "model_3_pred = np.squeeze(np.round(model_3_pred))\n",
        "\n",
        "#Evaluate Model 2 :\n",
        "mode1_3_results = calculate_results(model_3_pred, y_test)\n",
        "mode1_3_results"
      ]
    },
    {
      "cell_type": "code",
      "execution_count": 40,
      "metadata": {
        "id": "nPjiB8NbYkTn"
      },
      "outputs": [],
      "source": [
        ""
      ]
    },
    {
      "cell_type": "markdown",
      "metadata": {
        "id": "pNwT3w4BY8C3"
      },
      "source": [
        "**Model 4: Bidirectional RNN:**\n",
        "\n",
        "\n",
        "our stucutre of an RNN will be:\n",
        "\n",
        "Input (text) -> Tokenize -> Embedding -> Layers(RNNs/Dense) -> output"
      ]
    },
    {
      "cell_type": "code",
      "execution_count": 41,
      "metadata": {
        "id": "xTYXXRNmZDHe"
      },
      "outputs": [],
      "source": [
        "# Create LSTM model\n",
        "\n",
        "\n",
        "inputs = tf.keras.Input(shape=(1,), dtype=tf.string, name='text')\n",
        "X = text_victorizer(inputs)\n",
        "X = layers.Embedding(max_vocab, embedding_dim)(X)\n",
        "\n",
        "X = layers.Bidirectional(layers.LSTM(64, activation = 'tanh',  return_sequences=True))(X)\n",
        "X = layers.Bidirectional(layers.LSTM(64, activation = 'tanh'))(X)\n",
        "\n",
        "outputs = layers.Dense(1, activation='sigmoid')(X)\n",
        "model_4 = tf.keras.Model(inputs, outputs , name= 'Bidrectional_4_LSTM')"
      ]
    },
    {
      "cell_type": "code",
      "execution_count": 42,
      "metadata": {
        "id": "xYKfgWe-Zl5-",
        "colab": {
          "base_uri": "https://localhost:8080/"
        },
        "outputId": "f4e73ce6-5ca7-48da-f4a3-01254af8b083"
      },
      "outputs": [
        {
          "output_type": "stream",
          "name": "stdout",
          "text": [
            "Model: \"Bidrectional_4_LSTM\"\n",
            "_________________________________________________________________\n",
            " Layer (type)                Output Shape              Param #   \n",
            "=================================================================\n",
            " text (InputLayer)           [(None, 1)]               0         \n",
            "                                                                 \n",
            " text_vectorization (TextVec  (None, 15)               0         \n",
            " torization)                                                     \n",
            "                                                                 \n",
            " embedding_3 (Embedding)     (None, 15, 128)           1280000   \n",
            "                                                                 \n",
            " bidirectional (Bidirectiona  (None, 15, 128)          98816     \n",
            " l)                                                              \n",
            "                                                                 \n",
            " bidirectional_1 (Bidirectio  (None, 128)              98816     \n",
            " nal)                                                            \n",
            "                                                                 \n",
            " dense_3 (Dense)             (None, 1)                 129       \n",
            "                                                                 \n",
            "=================================================================\n",
            "Total params: 1,477,761\n",
            "Trainable params: 1,477,761\n",
            "Non-trainable params: 0\n",
            "_________________________________________________________________\n"
          ]
        }
      ],
      "source": [
        "model_4.compile(loss=\"binary_crossentropy\",\n",
        "                optimizer = tf.keras.optimizers.Adam(),\n",
        "                metrics = ['accuracy']\n",
        "                )\n",
        "model_4.summary()"
      ]
    },
    {
      "cell_type": "code",
      "execution_count": 43,
      "metadata": {
        "id": "q_HEhf1BZsY0",
        "colab": {
          "base_uri": "https://localhost:8080/"
        },
        "outputId": "71f781b5-a025-4b64-f40b-6baccc0a42a1"
      },
      "outputs": [
        {
          "output_type": "stream",
          "name": "stdout",
          "text": [
            "Epoch 1/5\n",
            "191/191 [==============================] - 18s 55ms/step - loss: 0.5125 - accuracy: 0.7529 - val_loss: 0.4697 - val_accuracy: 0.7879\n",
            "Epoch 2/5\n",
            "191/191 [==============================] - 10s 54ms/step - loss: 0.3063 - accuracy: 0.8775 - val_loss: 0.5105 - val_accuracy: 0.7965\n",
            "Epoch 3/5\n",
            "191/191 [==============================] - 9s 48ms/step - loss: 0.1924 - accuracy: 0.9294 - val_loss: 0.5826 - val_accuracy: 0.7853\n",
            "Epoch 4/5\n",
            "191/191 [==============================] - 10s 52ms/step - loss: 0.1331 - accuracy: 0.9542 - val_loss: 0.6398 - val_accuracy: 0.7656\n",
            "Epoch 5/5\n",
            "191/191 [==============================] - 9s 48ms/step - loss: 0.1019 - accuracy: 0.9655 - val_loss: 0.7123 - val_accuracy: 0.7761\n"
          ]
        }
      ],
      "source": [
        "# fit the model\n",
        "\n",
        "model_4_hsitory = model_4.fit(x = X_train, \n",
        "                              y = y_train,\n",
        "                              epochs = 5,\n",
        "                              validation_data = (X_test, y_test),\n",
        "                              callbacks = [tf.keras.callbacks.TensorBoard(log_dir=SAVE_DIR)]\n",
        "                              )"
      ]
    },
    {
      "cell_type": "code",
      "source": [
        ""
      ],
      "metadata": {
        "id": "2cfF1tAaKYEi"
      },
      "execution_count": 43,
      "outputs": []
    },
    {
      "cell_type": "code",
      "execution_count": 44,
      "metadata": {
        "id": "6HZ2GL5aZwRl",
        "colab": {
          "base_uri": "https://localhost:8080/"
        },
        "outputId": "4576f00f-5b2d-4145-cbc9-bb364a652ca7"
      },
      "outputs": [
        {
          "output_type": "execute_result",
          "data": {
            "text/plain": [
              "{'F1': 0.7799301140130972,\n",
              " 'accuracy': 77.60998030203545,\n",
              " 'precision': 0.7935119884665449,\n",
              " 'recall': 0.7760998030203545}"
            ]
          },
          "metadata": {},
          "execution_count": 44
        }
      ],
      "source": [
        "#Convert probabilities into label either 0 or 1\n",
        "model_4_pred = model_4.predict(X_test)\n",
        "model_4_pred = np.squeeze(np.round(model_4_pred))\n",
        "\n",
        "#Evaluate Model 4 :\n",
        "mode1_4_results = calculate_results(model_4_pred, y_test)\n",
        "mode1_4_results"
      ]
    },
    {
      "cell_type": "code",
      "source": [
        "model_4_pred.shape"
      ],
      "metadata": {
        "colab": {
          "base_uri": "https://localhost:8080/"
        },
        "id": "9E-CBuAAKZCL",
        "outputId": "6f7b7305-e509-4a79-a024-b31d4fc2391d"
      },
      "execution_count": 45,
      "outputs": [
        {
          "output_type": "execute_result",
          "data": {
            "text/plain": [
              "(1523,)"
            ]
          },
          "metadata": {},
          "execution_count": 45
        }
      ]
    },
    {
      "cell_type": "markdown",
      "source": [
        "**Model 5: Conv 1D:**\n",
        "\n",
        "\n",
        "our stucutre of an RNN will be:\n",
        "\n",
        "Input (text) -> Tokenize -> Embedding -> Layers(RNNs/Dense) -> output"
      ],
      "metadata": {
        "id": "TrcTMW-MI2Jr"
      }
    },
    {
      "cell_type": "code",
      "execution_count": 46,
      "metadata": {
        "id": "9-ZgajpSNgau"
      },
      "outputs": [],
      "source": [
        "# Create Conv1D model\n",
        "\n",
        "\n",
        "inputs = tf.keras.Input(shape=(1,), dtype=tf.string, name='text')\n",
        "X = text_victorizer(inputs)\n",
        "X = layers.Embedding(max_vocab, embedding_dim)(X)\n",
        "\n",
        "X = layers.Conv1D(64,4,activation = 'relu')(X)\n",
        "X = layers.Conv1D(64,4, activation = 'relu')(X)\n",
        "X = layers.GlobalAveragePooling1D() (X)\n",
        "outputs = layers.Dense(1, activation='sigmoid')(X)\n",
        "model_5 = tf.keras.Model(inputs, outputs , name= 'Model_5_CONV1D')"
      ]
    },
    {
      "cell_type": "code",
      "source": [
        "model_5.compile(loss=\"binary_crossentropy\",\n",
        "                optimizer = tf.keras.optimizers.Adam(),\n",
        "                metrics = ['accuracy']\n",
        "                )\n",
        "model_4.summary()"
      ],
      "metadata": {
        "colab": {
          "base_uri": "https://localhost:8080/"
        },
        "id": "c_Y5tqQrIzfb",
        "outputId": "4b56627d-305b-4ce8-8023-3fc70c850790"
      },
      "execution_count": 47,
      "outputs": [
        {
          "output_type": "stream",
          "name": "stdout",
          "text": [
            "Model: \"Bidrectional_4_LSTM\"\n",
            "_________________________________________________________________\n",
            " Layer (type)                Output Shape              Param #   \n",
            "=================================================================\n",
            " text (InputLayer)           [(None, 1)]               0         \n",
            "                                                                 \n",
            " text_vectorization (TextVec  (None, 15)               0         \n",
            " torization)                                                     \n",
            "                                                                 \n",
            " embedding_3 (Embedding)     (None, 15, 128)           1280000   \n",
            "                                                                 \n",
            " bidirectional (Bidirectiona  (None, 15, 128)          98816     \n",
            " l)                                                              \n",
            "                                                                 \n",
            " bidirectional_1 (Bidirectio  (None, 128)              98816     \n",
            " nal)                                                            \n",
            "                                                                 \n",
            " dense_3 (Dense)             (None, 1)                 129       \n",
            "                                                                 \n",
            "=================================================================\n",
            "Total params: 1,477,761\n",
            "Trainable params: 1,477,761\n",
            "Non-trainable params: 0\n",
            "_________________________________________________________________\n"
          ]
        }
      ]
    },
    {
      "cell_type": "code",
      "source": [
        "# fit the model\n",
        "\n",
        "model_5_hsitory = model_5.fit(x = X_train, \n",
        "                              y = y_train,\n",
        "                              epochs = 5,\n",
        "                              validation_data = (X_test, y_test),\n",
        "                              callbacks = [tf.keras.callbacks.TensorBoard(log_dir=SAVE_DIR)]\n",
        "                              )"
      ],
      "metadata": {
        "colab": {
          "base_uri": "https://localhost:8080/"
        },
        "id": "9-dWprYdJcGh",
        "outputId": "38aa12cc-cac9-4a12-e1f6-983892220df9"
      },
      "execution_count": 48,
      "outputs": [
        {
          "output_type": "stream",
          "name": "stdout",
          "text": [
            "Epoch 1/5\n",
            "191/191 [==============================] - 5s 25ms/step - loss: 0.5426 - accuracy: 0.7246 - val_loss: 0.4866 - val_accuracy: 0.7814\n",
            "Epoch 2/5\n",
            "191/191 [==============================] - 3s 18ms/step - loss: 0.3249 - accuracy: 0.8655 - val_loss: 0.5012 - val_accuracy: 0.7695\n",
            "Epoch 3/5\n",
            "191/191 [==============================] - 3s 18ms/step - loss: 0.1973 - accuracy: 0.9227 - val_loss: 0.5946 - val_accuracy: 0.7689\n",
            "Epoch 4/5\n",
            "191/191 [==============================] - 4s 20ms/step - loss: 0.1187 - accuracy: 0.9557 - val_loss: 0.7930 - val_accuracy: 0.7623\n",
            "Epoch 5/5\n",
            "191/191 [==============================] - 3s 17ms/step - loss: 0.0764 - accuracy: 0.9686 - val_loss: 1.0395 - val_accuracy: 0.7636\n"
          ]
        }
      ]
    },
    {
      "cell_type": "code",
      "source": [
        "#Convert probabilities into label either 0 or 1\n",
        "model_5_pred = model_5.predict(X_test)\n",
        "model_5_pred = np.squeeze(np.round(model_5_pred))\n",
        "\n",
        "#Evaluate Model 5 :\n",
        "mode1_5_results = calculate_results(model_5_pred, y_test)\n",
        "mode1_5_results"
      ],
      "metadata": {
        "colab": {
          "base_uri": "https://localhost:8080/"
        },
        "id": "FKeb1qY6JuYr",
        "outputId": "b1263923-7b23-4747-9808-bb44b3b34c78"
      },
      "execution_count": 49,
      "outputs": [
        {
          "output_type": "execute_result",
          "data": {
            "text/plain": [
              "{'F1': 0.7652152698140466,\n",
              " 'accuracy': 76.36244254760342,\n",
              " 'precision': 0.7691778449977296,\n",
              " 'recall': 0.7636244254760342}"
            ]
          },
          "metadata": {},
          "execution_count": 49
        }
      ]
    },
    {
      "cell_type": "markdown",
      "source": [
        "**Model 6: Pretrained layer:**\n",
        "\n",
        "\n"
      ],
      "metadata": {
        "id": "rJehfCu4u2di"
      }
    },
    {
      "cell_type": "code",
      "source": [
        ""
      ],
      "metadata": {
        "id": "Gv5AYZtvdUis"
      },
      "execution_count": null,
      "outputs": []
    },
    {
      "cell_type": "markdown",
      "source": [
        "I will build model using pretrained layer to transfer learning. Pretrained layers can be downloaded or recalled from https://tfhub.dev/google/universal-sentence-encoder/4"
      ],
      "metadata": {
        "id": "5vCMwe3IdHmB"
      }
    },
    {
      "cell_type": "code",
      "source": [
        "import tensorflow_hub as hub\n",
        "\n",
        "sentence_encoder_layer = hub.KerasLayer('https://tfhub.dev/google/universal-sentence-encoder/4', input_shape = [], dtype = tf.string,\n",
        "                                        name = 'USE')\n",
        "\n",
        "\n"
      ],
      "metadata": {
        "id": "ioDW8R3HJ7r2"
      },
      "execution_count": 59,
      "outputs": []
    },
    {
      "cell_type": "code",
      "source": [
        ""
      ],
      "metadata": {
        "colab": {
          "base_uri": "https://localhost:8080/"
        },
        "id": "pNQpGN3XsKeS",
        "outputId": "7440e23b-c83a-4d49-cb96-831560fd7751"
      },
      "execution_count": 79,
      "outputs": [
        {
          "output_type": "execute_result",
          "data": {
            "text/plain": [
              "TensorShape([2, 512])"
            ]
          },
          "metadata": {},
          "execution_count": 79
        }
      ]
    },
    {
      "cell_type": "code",
      "source": [
        "model_6 = tf.keras.Sequential([\n",
        "                    sentence_encoder_layer,\n",
        "                    tf.keras.layers.Dense(128, activation='relu'),\n",
        "                    tf.keras.layers.Dense(1, activation='sigmoid')\n",
        "                    ])\n",
        "                          \n"
      ],
      "metadata": {
        "id": "GDMA6JsGvjL9"
      },
      "execution_count": 73,
      "outputs": []
    },
    {
      "cell_type": "code",
      "source": [
        "model_6.compile(loss=\"binary_crossentropy\",\n",
        "                optimizer = tf.keras.optimizers.Adam(),\n",
        "                metrics = ['accuracy']\n",
        "                )\n",
        "model_6.summary()"
      ],
      "metadata": {
        "colab": {
          "base_uri": "https://localhost:8080/"
        },
        "id": "i11MDTl4NO97",
        "outputId": "de1f2857-bdc3-4bd4-da1a-3887d6a58966"
      },
      "execution_count": 74,
      "outputs": [
        {
          "output_type": "stream",
          "name": "stdout",
          "text": [
            "Model: \"sequential_6\"\n",
            "_________________________________________________________________\n",
            " Layer (type)                Output Shape              Param #   \n",
            "=================================================================\n",
            " USE (KerasLayer)            (None, 512)               256797824 \n",
            "                                                                 \n",
            " dense_13 (Dense)            (None, 128)               65664     \n",
            "                                                                 \n",
            " dense_14 (Dense)            (None, 1)                 129       \n",
            "                                                                 \n",
            "=================================================================\n",
            "Total params: 256,863,617\n",
            "Trainable params: 65,793\n",
            "Non-trainable params: 256,797,824\n",
            "_________________________________________________________________\n"
          ]
        }
      ]
    },
    {
      "cell_type": "code",
      "source": [
        "# fit the model\n",
        "\n",
        "model_6_hsitory = model_6.fit(x = X_train, \n",
        "                              y = y_train,\n",
        "                              epochs = 10,\n",
        "                              validation_data = (X_test, y_test),\n",
        "                              callbacks = [tf.keras.callbacks.TensorBoard(log_dir=SAVE_DIR)]\n",
        "                              )"
      ],
      "metadata": {
        "colab": {
          "base_uri": "https://localhost:8080/"
        },
        "id": "TDB4tt2dNQ2A",
        "outputId": "a7eb777a-17be-41e3-b9be-eff029cde074"
      },
      "execution_count": 75,
      "outputs": [
        {
          "output_type": "stream",
          "name": "stdout",
          "text": [
            "Epoch 1/10\n",
            "191/191 [==============================] - 4s 14ms/step - loss: 0.4915 - accuracy: 0.7870 - val_loss: 0.4478 - val_accuracy: 0.7925\n",
            "Epoch 2/10\n",
            "191/191 [==============================] - 2s 10ms/step - loss: 0.4077 - accuracy: 0.8210 - val_loss: 0.4414 - val_accuracy: 0.8024\n",
            "Epoch 3/10\n",
            "191/191 [==============================] - 2s 12ms/step - loss: 0.3922 - accuracy: 0.8263 - val_loss: 0.4345 - val_accuracy: 0.8083\n",
            "Epoch 4/10\n",
            "191/191 [==============================] - 2s 12ms/step - loss: 0.3811 - accuracy: 0.8304 - val_loss: 0.4352 - val_accuracy: 0.8076\n",
            "Epoch 5/10\n",
            "191/191 [==============================] - 2s 12ms/step - loss: 0.3718 - accuracy: 0.8373 - val_loss: 0.4382 - val_accuracy: 0.8148\n",
            "Epoch 6/10\n",
            "191/191 [==============================] - 2s 12ms/step - loss: 0.3614 - accuracy: 0.8414 - val_loss: 0.4411 - val_accuracy: 0.8109\n",
            "Epoch 7/10\n",
            "191/191 [==============================] - 2s 12ms/step - loss: 0.3521 - accuracy: 0.8443 - val_loss: 0.4347 - val_accuracy: 0.8142\n",
            "Epoch 8/10\n",
            "191/191 [==============================] - 2s 12ms/step - loss: 0.3415 - accuracy: 0.8512 - val_loss: 0.4344 - val_accuracy: 0.8148\n",
            "Epoch 9/10\n",
            "191/191 [==============================] - 2s 12ms/step - loss: 0.3307 - accuracy: 0.8558 - val_loss: 0.4345 - val_accuracy: 0.8175\n",
            "Epoch 10/10\n",
            "191/191 [==============================] - 2s 10ms/step - loss: 0.3207 - accuracy: 0.8614 - val_loss: 0.4362 - val_accuracy: 0.8227\n"
          ]
        }
      ]
    },
    {
      "cell_type": "code",
      "source": [
        "#Convert probabilities into label either 0 or 1\n",
        "model_6_pred = model_6.predict(X_test)\n",
        "model_6_pred = np.squeeze(np.round(model_6_pred))\n",
        "\n",
        "#Evaluate Model 6 :\n",
        "mode1_6_results = calculate_results(model_6_pred, y_test)\n",
        "mode1_6_results"
      ],
      "metadata": {
        "colab": {
          "base_uri": "https://localhost:8080/"
        },
        "id": "vVmY7mqHNW7A",
        "outputId": "56541599-b8c4-4ba5-da6b-48c3e23b96d0"
      },
      "execution_count": 76,
      "outputs": [
        {
          "output_type": "execute_result",
          "data": {
            "text/plain": [
              "{'F1': 0.8244999024118981,\n",
              " 'accuracy': 82.27183191070256,\n",
              " 'precision': 0.8310693188807714,\n",
              " 'recall': 0.8227183191070256}"
            ]
          },
          "metadata": {},
          "execution_count": 76
        }
      ]
    },
    {
      "cell_type": "code",
      "source": [
        ""
      ],
      "metadata": {
        "id": "ZnOKknj7PSEZ"
      },
      "execution_count": null,
      "outputs": []
    },
    {
      "cell_type": "markdown",
      "source": [
        "**Summary**"
      ],
      "metadata": {
        "id": "7gTNHwZ3tSJF"
      }
    },
    {
      "cell_type": "markdown",
      "source": [
        "Comparing the performance of all built models"
      ],
      "metadata": {
        "id": "mfaTsFFRtVKf"
      }
    },
    {
      "cell_type": "code",
      "source": [
        "df = pd.DataFrame([mode1_0_results, mode1_1_results, mode1_2_results, mode1_3_results, mode1_4_results, mode1_5_results, mode1_6_results])\n",
        "df.index.name = 'Model'\n",
        "df"
      ],
      "metadata": {
        "colab": {
          "base_uri": "https://localhost:8080/",
          "height": 300
        },
        "id": "RwEN5KRztuwq",
        "outputId": "f22970f3-4285-422d-9fec-bc125e994a55"
      },
      "execution_count": 82,
      "outputs": [
        {
          "output_type": "execute_result",
          "data": {
            "text/plain": [
              "        accuracy  precision    recall        F1\n",
              "Model                                          \n",
              "0      79.908076   0.839406  0.799081  0.806146\n",
              "1      79.251477   0.810340  0.792515  0.796190\n",
              "2      76.296783   0.764689  0.762968  0.763588\n",
              "3      77.413001   0.775716  0.774130  0.774696\n",
              "4      77.609980   0.793512  0.776100  0.779930\n",
              "5      76.362443   0.769178  0.763624  0.765215\n",
              "6      82.271832   0.831069  0.822718  0.824500"
            ],
            "text/html": [
              "\n",
              "  <div id=\"df-32532e03-5a64-4ff5-9027-1124708ba738\">\n",
              "    <div class=\"colab-df-container\">\n",
              "      <div>\n",
              "<style scoped>\n",
              "    .dataframe tbody tr th:only-of-type {\n",
              "        vertical-align: middle;\n",
              "    }\n",
              "\n",
              "    .dataframe tbody tr th {\n",
              "        vertical-align: top;\n",
              "    }\n",
              "\n",
              "    .dataframe thead th {\n",
              "        text-align: right;\n",
              "    }\n",
              "</style>\n",
              "<table border=\"1\" class=\"dataframe\">\n",
              "  <thead>\n",
              "    <tr style=\"text-align: right;\">\n",
              "      <th></th>\n",
              "      <th>accuracy</th>\n",
              "      <th>precision</th>\n",
              "      <th>recall</th>\n",
              "      <th>F1</th>\n",
              "    </tr>\n",
              "    <tr>\n",
              "      <th>Model</th>\n",
              "      <th></th>\n",
              "      <th></th>\n",
              "      <th></th>\n",
              "      <th></th>\n",
              "    </tr>\n",
              "  </thead>\n",
              "  <tbody>\n",
              "    <tr>\n",
              "      <th>0</th>\n",
              "      <td>79.908076</td>\n",
              "      <td>0.839406</td>\n",
              "      <td>0.799081</td>\n",
              "      <td>0.806146</td>\n",
              "    </tr>\n",
              "    <tr>\n",
              "      <th>1</th>\n",
              "      <td>79.251477</td>\n",
              "      <td>0.810340</td>\n",
              "      <td>0.792515</td>\n",
              "      <td>0.796190</td>\n",
              "    </tr>\n",
              "    <tr>\n",
              "      <th>2</th>\n",
              "      <td>76.296783</td>\n",
              "      <td>0.764689</td>\n",
              "      <td>0.762968</td>\n",
              "      <td>0.763588</td>\n",
              "    </tr>\n",
              "    <tr>\n",
              "      <th>3</th>\n",
              "      <td>77.413001</td>\n",
              "      <td>0.775716</td>\n",
              "      <td>0.774130</td>\n",
              "      <td>0.774696</td>\n",
              "    </tr>\n",
              "    <tr>\n",
              "      <th>4</th>\n",
              "      <td>77.609980</td>\n",
              "      <td>0.793512</td>\n",
              "      <td>0.776100</td>\n",
              "      <td>0.779930</td>\n",
              "    </tr>\n",
              "    <tr>\n",
              "      <th>5</th>\n",
              "      <td>76.362443</td>\n",
              "      <td>0.769178</td>\n",
              "      <td>0.763624</td>\n",
              "      <td>0.765215</td>\n",
              "    </tr>\n",
              "    <tr>\n",
              "      <th>6</th>\n",
              "      <td>82.271832</td>\n",
              "      <td>0.831069</td>\n",
              "      <td>0.822718</td>\n",
              "      <td>0.824500</td>\n",
              "    </tr>\n",
              "  </tbody>\n",
              "</table>\n",
              "</div>\n",
              "      <button class=\"colab-df-convert\" onclick=\"convertToInteractive('df-32532e03-5a64-4ff5-9027-1124708ba738')\"\n",
              "              title=\"Convert this dataframe to an interactive table.\"\n",
              "              style=\"display:none;\">\n",
              "        \n",
              "  <svg xmlns=\"http://www.w3.org/2000/svg\" height=\"24px\"viewBox=\"0 0 24 24\"\n",
              "       width=\"24px\">\n",
              "    <path d=\"M0 0h24v24H0V0z\" fill=\"none\"/>\n",
              "    <path d=\"M18.56 5.44l.94 2.06.94-2.06 2.06-.94-2.06-.94-.94-2.06-.94 2.06-2.06.94zm-11 1L8.5 8.5l.94-2.06 2.06-.94-2.06-.94L8.5 2.5l-.94 2.06-2.06.94zm10 10l.94 2.06.94-2.06 2.06-.94-2.06-.94-.94-2.06-.94 2.06-2.06.94z\"/><path d=\"M17.41 7.96l-1.37-1.37c-.4-.4-.92-.59-1.43-.59-.52 0-1.04.2-1.43.59L10.3 9.45l-7.72 7.72c-.78.78-.78 2.05 0 2.83L4 21.41c.39.39.9.59 1.41.59.51 0 1.02-.2 1.41-.59l7.78-7.78 2.81-2.81c.8-.78.8-2.07 0-2.86zM5.41 20L4 18.59l7.72-7.72 1.47 1.35L5.41 20z\"/>\n",
              "  </svg>\n",
              "      </button>\n",
              "      \n",
              "  <style>\n",
              "    .colab-df-container {\n",
              "      display:flex;\n",
              "      flex-wrap:wrap;\n",
              "      gap: 12px;\n",
              "    }\n",
              "\n",
              "    .colab-df-convert {\n",
              "      background-color: #E8F0FE;\n",
              "      border: none;\n",
              "      border-radius: 50%;\n",
              "      cursor: pointer;\n",
              "      display: none;\n",
              "      fill: #1967D2;\n",
              "      height: 32px;\n",
              "      padding: 0 0 0 0;\n",
              "      width: 32px;\n",
              "    }\n",
              "\n",
              "    .colab-df-convert:hover {\n",
              "      background-color: #E2EBFA;\n",
              "      box-shadow: 0px 1px 2px rgba(60, 64, 67, 0.3), 0px 1px 3px 1px rgba(60, 64, 67, 0.15);\n",
              "      fill: #174EA6;\n",
              "    }\n",
              "\n",
              "    [theme=dark] .colab-df-convert {\n",
              "      background-color: #3B4455;\n",
              "      fill: #D2E3FC;\n",
              "    }\n",
              "\n",
              "    [theme=dark] .colab-df-convert:hover {\n",
              "      background-color: #434B5C;\n",
              "      box-shadow: 0px 1px 3px 1px rgba(0, 0, 0, 0.15);\n",
              "      filter: drop-shadow(0px 1px 2px rgba(0, 0, 0, 0.3));\n",
              "      fill: #FFFFFF;\n",
              "    }\n",
              "  </style>\n",
              "\n",
              "      <script>\n",
              "        const buttonEl =\n",
              "          document.querySelector('#df-32532e03-5a64-4ff5-9027-1124708ba738 button.colab-df-convert');\n",
              "        buttonEl.style.display =\n",
              "          google.colab.kernel.accessAllowed ? 'block' : 'none';\n",
              "\n",
              "        async function convertToInteractive(key) {\n",
              "          const element = document.querySelector('#df-32532e03-5a64-4ff5-9027-1124708ba738');\n",
              "          const dataTable =\n",
              "            await google.colab.kernel.invokeFunction('convertToInteractive',\n",
              "                                                     [key], {});\n",
              "          if (!dataTable) return;\n",
              "\n",
              "          const docLinkHtml = 'Like what you see? Visit the ' +\n",
              "            '<a target=\"_blank\" href=https://colab.research.google.com/notebooks/data_table.ipynb>data table notebook</a>'\n",
              "            + ' to learn more about interactive tables.';\n",
              "          element.innerHTML = '';\n",
              "          dataTable['output_type'] = 'display_data';\n",
              "          await google.colab.output.renderOutput(dataTable, element);\n",
              "          const docLink = document.createElement('div');\n",
              "          docLink.innerHTML = docLinkHtml;\n",
              "          element.appendChild(docLink);\n",
              "        }\n",
              "      </script>\n",
              "    </div>\n",
              "  </div>\n",
              "  "
            ]
          },
          "metadata": {},
          "execution_count": 82
        }
      ]
    },
    {
      "cell_type": "code",
      "source": [
        ""
      ],
      "metadata": {
        "id": "RuNh0obBt68q"
      },
      "execution_count": null,
      "outputs": []
    }
  ],
  "metadata": {
    "accelerator": "GPU",
    "colab": {
      "collapsed_sections": [],
      "name": "Text Classification (Disaster or not Disaster) .ipynb",
      "provenance": []
    },
    "kernelspec": {
      "display_name": "Python 3",
      "name": "python3"
    },
    "language_info": {
      "name": "python"
    }
  },
  "nbformat": 4,
  "nbformat_minor": 0
}